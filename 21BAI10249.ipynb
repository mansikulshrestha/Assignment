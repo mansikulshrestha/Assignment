{
  "nbformat": 4,
  "nbformat_minor": 0,
  "metadata": {
    "colab": {
      "provenance": []
    },
    "kernelspec": {
      "name": "python3",
      "display_name": "Python 3"
    },
    "language_info": {
      "name": "python"
    }
  },
  "cells": [
    {
      "cell_type": "code",
      "execution_count": 12,
      "metadata": {
        "id": "02NlZmgTxyN_"
      },
      "outputs": [],
      "source": [
        "# Import necessary libraries\n",
        "import pandas as pd\n",
        "from sklearn.model_selection import train_test_split\n",
        "from sklearn.preprocessing import LabelEncoder, OneHotEncoder, StandardScaler, MinMaxScaler\n",
        "from sklearn.impute import SimpleImputer\n",
        "from sklearn.decomposition import PCA\n",
        "from scipy import stats\n",
        "import numpy as np\n",
        "\n"
      ]
    },
    {
      "cell_type": "code",
      "source": [
        "# Load the dataset (using Iris dataset as an example)\n",
        "from sklearn.datasets import load_iris\n",
        "iris = load_iris()\n",
        "data = pd.DataFrame(data=iris.data, columns=iris.feature_names)\n",
        "data['target'] = iris.target\n"
      ],
      "metadata": {
        "id": "W2uUmv_YyNNu"
      },
      "execution_count": 3,
      "outputs": []
    },
    {
      "cell_type": "code",
      "source": [
        "# Check the data info\n",
        "print(\"Data Info:\")\n",
        "print(data.info())"
      ],
      "metadata": {
        "id": "Ix0VBapbyZ0L"
      },
      "execution_count": null,
      "outputs": []
    },
    {
      "cell_type": "code",
      "source": [
        "# Splitting the dataset into Training, Validation, and Test sets\n",
        "train_data, test_data = train_test_split(data, test_size=0.2, random_state=42)\n",
        "train_data, val_data = train_test_split(train_data, test_size=0.25, random_state=42)"
      ],
      "metadata": {
        "id": "OA8xR-VdygDP"
      },
      "execution_count": 5,
      "outputs": []
    },
    {
      "cell_type": "code",
      "source": [
        "# Separate independent features and Target Variables\n",
        "X_train = train_data.drop('target', axis=1)\n",
        "y_train = train_data['target']\n",
        "\n",
        "X_val = val_data.drop('target', axis=1)\n",
        "y_val = val_data['target']\n",
        "\n",
        "X_test = test_data.drop('target', axis=1)\n",
        "y_test = test_data['target']"
      ],
      "metadata": {
        "id": "a6b8OJtMy9yc"
      },
      "execution_count": 6,
      "outputs": []
    },
    {
      "cell_type": "code",
      "source": [
        "# Count the Missing values\n",
        "print(\"\\nMissing Values:\")\n",
        "print(data.isnull().sum())\n"
      ],
      "metadata": {
        "id": "knJA7u4fzBYx",
        "outputId": "9f2729d7-a41f-4c3f-adb6-504171aae98a",
        "colab": {
          "base_uri": "https://localhost:8080/"
        }
      },
      "execution_count": 7,
      "outputs": [
        {
          "output_type": "stream",
          "name": "stdout",
          "text": [
            "\n",
            "Missing Values:\n",
            "sepal length (cm)    0\n",
            "sepal width (cm)     0\n",
            "petal length (cm)    0\n",
            "petal width (cm)     0\n",
            "target               0\n",
            "dtype: int64\n"
          ]
        }
      ]
    },
    {
      "cell_type": "code",
      "source": [
        "# Dealing with the Missing values using SimpleImputer method\n",
        "imputer = SimpleImputer(strategy='mean')\n",
        "X_train_imputed = imputer.fit_transform(X_train)\n",
        "X_val_imputed = imputer.transform(X_val)\n",
        "X_test_imputed = imputer.transform(X_test)"
      ],
      "metadata": {
        "id": "8bi3Rm1MzEFN"
      },
      "execution_count": 8,
      "outputs": []
    },
    {
      "cell_type": "code",
      "source": [
        "# Show the Categorical Features (For this example, there are none as Iris dataset has numeric features)\n",
        "categorical_features = []\n",
        "print(\"\\nCategorical Features:\")\n",
        "print(categorical_features)"
      ],
      "metadata": {
        "id": "S6H-M4eyzHrd",
        "outputId": "3b8e243e-f77f-47ef-a842-c0f338224d49",
        "colab": {
          "base_uri": "https://localhost:8080/"
        }
      },
      "execution_count": 9,
      "outputs": [
        {
          "output_type": "stream",
          "name": "stdout",
          "text": [
            "\n",
            "Categorical Features:\n",
            "[]\n"
          ]
        }
      ]
    },
    {
      "cell_type": "code",
      "source": [
        "# Check the outliers\n",
        "outliers_zscore = (np.abs(stats.zscore(data.drop('target', axis=1))) > 3)\n",
        "outliers_indices = np.where(outliers_zscore)\n",
        "print(\"\\nOutliers Indices (Z-Score Method):\")\n",
        "print(outliers_indices)\n"
      ],
      "metadata": {
        "id": "tPj3ZHDHzLVZ",
        "outputId": "ecd0a92b-9685-41f5-b071-ac668af65213",
        "colab": {
          "base_uri": "https://localhost:8080/"
        }
      },
      "execution_count": 13,
      "outputs": [
        {
          "output_type": "stream",
          "name": "stdout",
          "text": [
            "\n",
            "Outliers Indices (Z-Score Method):\n",
            "(array([15]), array([1]))\n"
          ]
        }
      ]
    },
    {
      "cell_type": "code",
      "source": [
        "data_no_outliers = data.drop(data.index[outliers_indices[0]])"
      ],
      "metadata": {
        "id": "qbZkPcQqzuMk"
      },
      "execution_count": 14,
      "outputs": []
    },
    {
      "cell_type": "code",
      "source": [
        "scaler_minmax = MinMaxScaler()\n",
        "X_train_minmax = scaler_minmax.fit_transform(X_train_imputed)\n",
        "X_val_minmax = scaler_minmax.transform(X_val_imputed)\n",
        "X_test_minmax = scaler_minmax.transform(X_test_imputed)\n",
        "\n",
        "scaler_zscore = StandardScaler()\n",
        "X_train_zscore = scaler_zscore.fit_transform(X_train_imputed)\n",
        "X_val_zscore = scaler_zscore.transform(X_val_imputed)\n",
        "X_test_zscore = scaler_zscore.transform(X_test_imputed)\n"
      ],
      "metadata": {
        "id": "5jq6dPH-0Oz-"
      },
      "execution_count": 15,
      "outputs": []
    },
    {
      "cell_type": "code",
      "source": [
        "# Statistical Analysis\n",
        "print(\"\\nStatistical Analysis:\")\n",
        "print(\"Mean:\\n\", np.mean(X_train_imputed, axis=0))\n",
        "print(\"Median:\\n\", np.median(X_train_imputed, axis=0))\n",
        "print(\"Variance:\\n\", np.var(X_train_imputed, axis=0))\n",
        "print(\"Standard Deviation:\\n\", np.std(X_train_imputed, axis=0))\n",
        "\n"
      ],
      "metadata": {
        "id": "bRShaYWt0SxM",
        "outputId": "1edbaac3-7658-457c-f7f2-876e9c92443f",
        "colab": {
          "base_uri": "https://localhost:8080/"
        }
      },
      "execution_count": 19,
      "outputs": [
        {
          "output_type": "stream",
          "name": "stdout",
          "text": [
            "\n",
            "Statistical Analysis:\n",
            "Mean:\n",
            " [5.84666667 3.11222222 3.72777778 1.18888889]\n",
            "Median:\n",
            " [5.8 3.  4.3 1.3]\n",
            "Variance:\n",
            " [0.6896     0.21107284 3.19600617 0.58565432]\n",
            "Standard Deviation:\n",
            " [0.83042158 0.45942664 1.78773772 0.76528055]\n"
          ]
        }
      ]
    },
    {
      "cell_type": "code",
      "source": [
        "# Correlation Analysis\n",
        "correlation_matrix = np.corrcoef(X_train_imputed, rowvar=False)\n",
        "\n",
        "print(\"\\nCorrelation Matrix:\")\n",
        "print(correlation_matrix)\n"
      ],
      "metadata": {
        "id": "IVSrS3Nd0XzZ",
        "outputId": "3507eac8-cbff-4b9d-f07e-f48c924c6511",
        "colab": {
          "base_uri": "https://localhost:8080/"
        }
      },
      "execution_count": 21,
      "outputs": [
        {
          "output_type": "stream",
          "name": "stdout",
          "text": [
            "\n",
            "Correlation Matrix:\n",
            "[[ 1.         -0.13808394  0.86267306  0.79248668]\n",
            " [-0.13808394  1.         -0.47903831 -0.41076151]\n",
            " [ 0.86267306 -0.47903831  1.          0.95798695]\n",
            " [ 0.79248668 -0.41076151  0.95798695  1.        ]]\n"
          ]
        }
      ]
    },
    {
      "cell_type": "code",
      "source": [],
      "metadata": {
        "id": "o624OenB074I"
      },
      "execution_count": null,
      "outputs": []
    }
  ]
}